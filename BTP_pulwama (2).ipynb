{
 "cells": [
  {
   "cell_type": "code",
   "execution_count": 3,
   "metadata": {},
   "outputs": [],
   "source": [
    "import pandas as pd\n",
    "import datetime\n",
    "import gensim\n",
    "from gensim.utils import simple_preprocess\n",
    "from gensim.parsing.preprocessing import STOPWORDS\n",
    "from nltk.stem import WordNetLemmatizer, SnowballStemmer\n",
    "from nltk.stem.porter import *\n",
    "import numpy as np\n",
    "np.random.seed(400)\n",
    "from nltk import PorterStemmer\n",
    "PorterStemmer().stem('complications')\n",
    "import matplotlib.pyplot as plt\n",
    "import seaborn as sns"
   ]
  },
  {
   "cell_type": "code",
   "execution_count": 4,
   "metadata": {},
   "outputs": [
    {
     "name": "stderr",
     "output_type": "stream",
     "text": [
      "[nltk_data] Downloading package wordnet to C:\\Users\\Taruna\n",
      "[nltk_data]     Garg\\AppData\\Roaming\\nltk_data...\n",
      "[nltk_data]   Package wordnet is already up-to-date!\n"
     ]
    },
    {
     "data": {
      "text/plain": [
       "True"
      ]
     },
     "execution_count": 4,
     "metadata": {},
     "output_type": "execute_result"
    }
   ],
   "source": [
    "import nltk\n",
    "nltk.download('wordnet')"
   ]
  },
  {
   "cell_type": "code",
   "execution_count": 5,
   "metadata": {},
   "outputs": [
    {
     "data": {
      "text/html": [
       "<div>\n",
       "<style scoped>\n",
       "    .dataframe tbody tr th:only-of-type {\n",
       "        vertical-align: middle;\n",
       "    }\n",
       "\n",
       "    .dataframe tbody tr th {\n",
       "        vertical-align: top;\n",
       "    }\n",
       "\n",
       "    .dataframe thead th {\n",
       "        text-align: right;\n",
       "    }\n",
       "</style>\n",
       "<table border=\"1\" class=\"dataframe\">\n",
       "  <thead>\n",
       "    <tr style=\"text-align: right;\">\n",
       "      <th></th>\n",
       "      <th>datetime</th>\n",
       "      <th>headlines</th>\n",
       "      <th>summary</th>\n",
       "      <th>article</th>\n",
       "      <th>url</th>\n",
       "    </tr>\n",
       "  </thead>\n",
       "  <tbody>\n",
       "    <tr>\n",
       "      <th>0</th>\n",
       "      <td>2019-02-08T00:00:00+05:30</td>\n",
       "      <td>Opening gates to North East Indian craftsmanship…</td>\n",
       "      <td>NaN</td>\n",
       "      <td>“I go to melas with my Mom during vacation and...</td>\n",
       "      <td>https://timesofindia.indiatimes.com/city/indor...</td>\n",
       "    </tr>\n",
       "    <tr>\n",
       "      <th>1</th>\n",
       "      <td>2019-02-04T00:00:00+05:30</td>\n",
       "      <td>Is your cool hashtag-friendly lifestyle leadin...</td>\n",
       "      <td>NaN</td>\n",
       "      <td>Yes, it is easy to go out and devour junk food...</td>\n",
       "      <td>https://timesofindia.indiatimes.com/city/benga...</td>\n",
       "    </tr>\n",
       "    <tr>\n",
       "      <th>2</th>\n",
       "      <td>2019-02-04T00:33:41+05:30</td>\n",
       "      <td>ISL: Others have more pressure, says FC Goa co...</td>\n",
       "      <td>NaN</td>\n",
       "      <td>The race for the playoff spot in the Indian Su...</td>\n",
       "      <td>https://timesofindia.indiatimes.com/city/goa/i...</td>\n",
       "    </tr>\n",
       "    <tr>\n",
       "      <th>3</th>\n",
       "      <td>2019-02-04T14:58:32+05:30</td>\n",
       "      <td>Congress can learn a lot from Babulal Gaur, sa...</td>\n",
       "      <td>NaN</td>\n",
       "      <td>Bhopal: Former chief minister Babulal Gaur , w...</td>\n",
       "      <td>https://timesofindia.indiatimes.com/city/bhopa...</td>\n",
       "    </tr>\n",
       "    <tr>\n",
       "      <th>4</th>\n",
       "      <td>2019-02-10T00:49:22+05:30</td>\n",
       "      <td>Don’t believe the label: FSSAI to set rules fo...</td>\n",
       "      <td>NaN</td>\n",
       "      <td>NEW DELHI: The food safety and standards autho...</td>\n",
       "      <td>https://timesofindia.indiatimes.com/city/delhi...</td>\n",
       "    </tr>\n",
       "  </tbody>\n",
       "</table>\n",
       "</div>"
      ],
      "text/plain": [
       "                    datetime  \\\n",
       "0  2019-02-08T00:00:00+05:30   \n",
       "1  2019-02-04T00:00:00+05:30   \n",
       "2  2019-02-04T00:33:41+05:30   \n",
       "3  2019-02-04T14:58:32+05:30   \n",
       "4  2019-02-10T00:49:22+05:30   \n",
       "\n",
       "                                           headlines summary  \\\n",
       "0  Opening gates to North East Indian craftsmanship…     NaN   \n",
       "1  Is your cool hashtag-friendly lifestyle leadin...     NaN   \n",
       "2  ISL: Others have more pressure, says FC Goa co...     NaN   \n",
       "3  Congress can learn a lot from Babulal Gaur, sa...     NaN   \n",
       "4  Don’t believe the label: FSSAI to set rules fo...     NaN   \n",
       "\n",
       "                                             article  \\\n",
       "0  “I go to melas with my Mom during vacation and...   \n",
       "1  Yes, it is easy to go out and devour junk food...   \n",
       "2  The race for the playoff spot in the Indian Su...   \n",
       "3  Bhopal: Former chief minister Babulal Gaur , w...   \n",
       "4  NEW DELHI: The food safety and standards autho...   \n",
       "\n",
       "                                                 url  \n",
       "0  https://timesofindia.indiatimes.com/city/indor...  \n",
       "1  https://timesofindia.indiatimes.com/city/benga...  \n",
       "2  https://timesofindia.indiatimes.com/city/goa/i...  \n",
       "3  https://timesofindia.indiatimes.com/city/bhopa...  \n",
       "4  https://timesofindia.indiatimes.com/city/delhi...  "
      ]
     },
     "execution_count": 5,
     "metadata": {},
     "output_type": "execute_result"
    }
   ],
   "source": [
    "pulwama = pd.read_csv(\"pulwama1.csv\")\n",
    "pulwama.head()"
   ]
  },
  {
   "cell_type": "code",
   "execution_count": 6,
   "metadata": {},
   "outputs": [
    {
     "data": {
      "text/plain": [
       "(17850, 5)"
      ]
     },
     "execution_count": 6,
     "metadata": {},
     "output_type": "execute_result"
    }
   ],
   "source": [
    "pulwama.shape"
   ]
  },
  {
   "cell_type": "code",
   "execution_count": 7,
   "metadata": {},
   "outputs": [
    {
     "data": {
      "text/html": [
       "<div>\n",
       "<style scoped>\n",
       "    .dataframe tbody tr th:only-of-type {\n",
       "        vertical-align: middle;\n",
       "    }\n",
       "\n",
       "    .dataframe tbody tr th {\n",
       "        vertical-align: top;\n",
       "    }\n",
       "\n",
       "    .dataframe thead th {\n",
       "        text-align: right;\n",
       "    }\n",
       "</style>\n",
       "<table border=\"1\" class=\"dataframe\">\n",
       "  <thead>\n",
       "    <tr style=\"text-align: right;\">\n",
       "      <th></th>\n",
       "      <th>datetime</th>\n",
       "      <th>headlines</th>\n",
       "      <th>article</th>\n",
       "    </tr>\n",
       "  </thead>\n",
       "  <tbody>\n",
       "    <tr>\n",
       "      <th>0</th>\n",
       "      <td>2019-02-08T00:00:00+05:30</td>\n",
       "      <td>Opening gates to North East Indian craftsmanship…</td>\n",
       "      <td>“I go to melas with my Mom during vacation and...</td>\n",
       "    </tr>\n",
       "    <tr>\n",
       "      <th>1</th>\n",
       "      <td>2019-02-04T00:00:00+05:30</td>\n",
       "      <td>Is your cool hashtag-friendly lifestyle leadin...</td>\n",
       "      <td>Yes, it is easy to go out and devour junk food...</td>\n",
       "    </tr>\n",
       "    <tr>\n",
       "      <th>2</th>\n",
       "      <td>2019-02-04T00:33:41+05:30</td>\n",
       "      <td>ISL: Others have more pressure, says FC Goa co...</td>\n",
       "      <td>The race for the playoff spot in the Indian Su...</td>\n",
       "    </tr>\n",
       "    <tr>\n",
       "      <th>3</th>\n",
       "      <td>2019-02-04T14:58:32+05:30</td>\n",
       "      <td>Congress can learn a lot from Babulal Gaur, sa...</td>\n",
       "      <td>Bhopal: Former chief minister Babulal Gaur , w...</td>\n",
       "    </tr>\n",
       "    <tr>\n",
       "      <th>4</th>\n",
       "      <td>2019-02-10T00:49:22+05:30</td>\n",
       "      <td>Don’t believe the label: FSSAI to set rules fo...</td>\n",
       "      <td>NEW DELHI: The food safety and standards autho...</td>\n",
       "    </tr>\n",
       "  </tbody>\n",
       "</table>\n",
       "</div>"
      ],
      "text/plain": [
       "                    datetime  \\\n",
       "0  2019-02-08T00:00:00+05:30   \n",
       "1  2019-02-04T00:00:00+05:30   \n",
       "2  2019-02-04T00:33:41+05:30   \n",
       "3  2019-02-04T14:58:32+05:30   \n",
       "4  2019-02-10T00:49:22+05:30   \n",
       "\n",
       "                                           headlines  \\\n",
       "0  Opening gates to North East Indian craftsmanship…   \n",
       "1  Is your cool hashtag-friendly lifestyle leadin...   \n",
       "2  ISL: Others have more pressure, says FC Goa co...   \n",
       "3  Congress can learn a lot from Babulal Gaur, sa...   \n",
       "4  Don’t believe the label: FSSAI to set rules fo...   \n",
       "\n",
       "                                             article  \n",
       "0  “I go to melas with my Mom during vacation and...  \n",
       "1  Yes, it is easy to go out and devour junk food...  \n",
       "2  The race for the playoff spot in the Indian Su...  \n",
       "3  Bhopal: Former chief minister Babulal Gaur , w...  \n",
       "4  NEW DELHI: The food safety and standards autho...  "
      ]
     },
     "execution_count": 7,
     "metadata": {},
     "output_type": "execute_result"
    }
   ],
   "source": [
    "pulwama = pulwama.drop(['summary', 'url'], axis=1)\n",
    "pulwama.head()"
   ]
  },
  {
   "cell_type": "code",
   "execution_count": 8,
   "metadata": {},
   "outputs": [
    {
     "data": {
      "text/plain": [
       "(17596, 3)"
      ]
     },
     "execution_count": 8,
     "metadata": {},
     "output_type": "execute_result"
    }
   ],
   "source": [
    "pulwama = pulwama.dropna(how='any')\n",
    "pulwama.shape"
   ]
  },
  {
   "cell_type": "code",
   "execution_count": 9,
   "metadata": {},
   "outputs": [
    {
     "data": {
      "text/html": [
       "<div>\n",
       "<style scoped>\n",
       "    .dataframe tbody tr th:only-of-type {\n",
       "        vertical-align: middle;\n",
       "    }\n",
       "\n",
       "    .dataframe tbody tr th {\n",
       "        vertical-align: top;\n",
       "    }\n",
       "\n",
       "    .dataframe thead th {\n",
       "        text-align: right;\n",
       "    }\n",
       "</style>\n",
       "<table border=\"1\" class=\"dataframe\">\n",
       "  <thead>\n",
       "    <tr style=\"text-align: right;\">\n",
       "      <th></th>\n",
       "      <th>datetime</th>\n",
       "      <th>headlines</th>\n",
       "      <th>article</th>\n",
       "    </tr>\n",
       "  </thead>\n",
       "  <tbody>\n",
       "    <tr>\n",
       "      <th>0</th>\n",
       "      <td>2019-02-08</td>\n",
       "      <td>Opening gates to North East Indian craftsmanship…</td>\n",
       "      <td>“I go to melas with my Mom during vacation and...</td>\n",
       "    </tr>\n",
       "    <tr>\n",
       "      <th>1</th>\n",
       "      <td>2019-02-04</td>\n",
       "      <td>Is your cool hashtag-friendly lifestyle leadin...</td>\n",
       "      <td>Yes, it is easy to go out and devour junk food...</td>\n",
       "    </tr>\n",
       "    <tr>\n",
       "      <th>2</th>\n",
       "      <td>2019-02-04</td>\n",
       "      <td>ISL: Others have more pressure, says FC Goa co...</td>\n",
       "      <td>The race for the playoff spot in the Indian Su...</td>\n",
       "    </tr>\n",
       "    <tr>\n",
       "      <th>3</th>\n",
       "      <td>2019-02-04</td>\n",
       "      <td>Congress can learn a lot from Babulal Gaur, sa...</td>\n",
       "      <td>Bhopal: Former chief minister Babulal Gaur , w...</td>\n",
       "    </tr>\n",
       "    <tr>\n",
       "      <th>4</th>\n",
       "      <td>2019-02-10</td>\n",
       "      <td>Don’t believe the label: FSSAI to set rules fo...</td>\n",
       "      <td>NEW DELHI: The food safety and standards autho...</td>\n",
       "    </tr>\n",
       "  </tbody>\n",
       "</table>\n",
       "</div>"
      ],
      "text/plain": [
       "     datetime                                          headlines  \\\n",
       "0  2019-02-08  Opening gates to North East Indian craftsmanship…   \n",
       "1  2019-02-04  Is your cool hashtag-friendly lifestyle leadin...   \n",
       "2  2019-02-04  ISL: Others have more pressure, says FC Goa co...   \n",
       "3  2019-02-04  Congress can learn a lot from Babulal Gaur, sa...   \n",
       "4  2019-02-10  Don’t believe the label: FSSAI to set rules fo...   \n",
       "\n",
       "                                             article  \n",
       "0  “I go to melas with my Mom during vacation and...  \n",
       "1  Yes, it is easy to go out and devour junk food...  \n",
       "2  The race for the playoff spot in the Indian Su...  \n",
       "3  Bhopal: Former chief minister Babulal Gaur , w...  \n",
       "4  NEW DELHI: The food safety and standards autho...  "
      ]
     },
     "execution_count": 9,
     "metadata": {},
     "output_type": "execute_result"
    }
   ],
   "source": [
    "l = []\n",
    "\n",
    "for i in pulwama['datetime']:\n",
    "    i = i.replace(i[10:],'')\n",
    "    l.append(i)\n",
    "    \n",
    "pulwama['datetime'] = l\n",
    "pulwama.head()"
   ]
  },
  {
   "cell_type": "code",
   "execution_count": 10,
   "metadata": {},
   "outputs": [
    {
     "data": {
      "text/html": [
       "<div>\n",
       "<style scoped>\n",
       "    .dataframe tbody tr th:only-of-type {\n",
       "        vertical-align: middle;\n",
       "    }\n",
       "\n",
       "    .dataframe tbody tr th {\n",
       "        vertical-align: top;\n",
       "    }\n",
       "\n",
       "    .dataframe thead th {\n",
       "        text-align: right;\n",
       "    }\n",
       "</style>\n",
       "<table border=\"1\" class=\"dataframe\">\n",
       "  <thead>\n",
       "    <tr style=\"text-align: right;\">\n",
       "      <th></th>\n",
       "      <th>index</th>\n",
       "      <th>date</th>\n",
       "      <th>headlines</th>\n",
       "      <th>article</th>\n",
       "    </tr>\n",
       "  </thead>\n",
       "  <tbody>\n",
       "    <tr>\n",
       "      <th>0</th>\n",
       "      <td>8961</td>\n",
       "      <td>2019-02-01</td>\n",
       "      <td>Inmate next to your hostel room could be a cri...</td>\n",
       "      <td>LUCKNOW: Worried that their children could be ...</td>\n",
       "    </tr>\n",
       "    <tr>\n",
       "      <th>1</th>\n",
       "      <td>8645</td>\n",
       "      <td>2019-02-01</td>\n",
       "      <td>Heavily water polluted area survey findings ro...</td>\n",
       "      <td>CHANDIGARH: The recent findings of a survey by...</td>\n",
       "    </tr>\n",
       "    <tr>\n",
       "      <th>2</th>\n",
       "      <td>11205</td>\n",
       "      <td>2019-02-01</td>\n",
       "      <td>H1N1: DMHOs to inspect wards, panel to manage ...</td>\n",
       "      <td>Hyderabad: Anticipating further increase in th...</td>\n",
       "    </tr>\n",
       "    <tr>\n",
       "      <th>3</th>\n",
       "      <td>8646</td>\n",
       "      <td>2019-02-01</td>\n",
       "      <td>With Jind result story</td>\n",
       "      <td>Mismatch of EVMs In the eighth round of counti...</td>\n",
       "    </tr>\n",
       "    <tr>\n",
       "      <th>4</th>\n",
       "      <td>8647</td>\n",
       "      <td>2019-02-01</td>\n",
       "      <td>No 200 free power units for I-T payers</td>\n",
       "      <td>CHANDIGARH: In the run-up to the Lok Sabha pol...</td>\n",
       "    </tr>\n",
       "  </tbody>\n",
       "</table>\n",
       "</div>"
      ],
      "text/plain": [
       "   index        date                                          headlines  \\\n",
       "0   8961  2019-02-01  Inmate next to your hostel room could be a cri...   \n",
       "1   8645  2019-02-01  Heavily water polluted area survey findings ro...   \n",
       "2  11205  2019-02-01  H1N1: DMHOs to inspect wards, panel to manage ...   \n",
       "3   8646  2019-02-01                             With Jind result story   \n",
       "4   8647  2019-02-01             No 200 free power units for I-T payers   \n",
       "\n",
       "                                             article  \n",
       "0  LUCKNOW: Worried that their children could be ...  \n",
       "1  CHANDIGARH: The recent findings of a survey by...  \n",
       "2  Hyderabad: Anticipating further increase in th...  \n",
       "3  Mismatch of EVMs In the eighth round of counti...  \n",
       "4  CHANDIGARH: In the run-up to the Lok Sabha pol...  "
      ]
     },
     "execution_count": 10,
     "metadata": {},
     "output_type": "execute_result"
    }
   ],
   "source": [
    "pulwama = pulwama.rename(index=str, columns={\"datetime\": \"date\"})\n",
    "pulwama = pulwama.sort_values(by='date',ascending=True)\n",
    "pulwama_clean = pulwama.reset_index()\n",
    "pulwama_clean.head()"
   ]
  },
  {
   "cell_type": "code",
   "execution_count": 79,
   "metadata": {},
   "outputs": [
    {
     "data": {
      "text/html": [
       "<div>\n",
       "<style scoped>\n",
       "    .dataframe tbody tr th:only-of-type {\n",
       "        vertical-align: middle;\n",
       "    }\n",
       "\n",
       "    .dataframe tbody tr th {\n",
       "        vertical-align: top;\n",
       "    }\n",
       "\n",
       "    .dataframe thead th {\n",
       "        text-align: right;\n",
       "    }\n",
       "</style>\n",
       "<table border=\"1\" class=\"dataframe\">\n",
       "  <thead>\n",
       "    <tr style=\"text-align: right;\">\n",
       "      <th></th>\n",
       "      <th>date</th>\n",
       "      <th>headlines</th>\n",
       "      <th>article</th>\n",
       "    </tr>\n",
       "  </thead>\n",
       "  <tbody>\n",
       "    <tr>\n",
       "      <th>0</th>\n",
       "      <td>2019-02-01</td>\n",
       "      <td>Inmate next to your hostel room could be a cri...</td>\n",
       "      <td>LUCKNOW: Worried that their children could be ...</td>\n",
       "    </tr>\n",
       "    <tr>\n",
       "      <th>1</th>\n",
       "      <td>2019-02-01</td>\n",
       "      <td>Heavily water polluted area survey findings ro...</td>\n",
       "      <td>CHANDIGARH: The recent findings of a survey by...</td>\n",
       "    </tr>\n",
       "    <tr>\n",
       "      <th>2</th>\n",
       "      <td>2019-02-01</td>\n",
       "      <td>H1N1: DMHOs to inspect wards, panel to manage ...</td>\n",
       "      <td>Hyderabad: Anticipating further increase in th...</td>\n",
       "    </tr>\n",
       "    <tr>\n",
       "      <th>3</th>\n",
       "      <td>2019-02-01</td>\n",
       "      <td>With Jind result story</td>\n",
       "      <td>Mismatch of EVMs In the eighth round of counti...</td>\n",
       "    </tr>\n",
       "    <tr>\n",
       "      <th>4</th>\n",
       "      <td>2019-02-01</td>\n",
       "      <td>No 200 free power units for I-T payers</td>\n",
       "      <td>CHANDIGARH: In the run-up to the Lok Sabha pol...</td>\n",
       "    </tr>\n",
       "  </tbody>\n",
       "</table>\n",
       "</div>"
      ],
      "text/plain": [
       "         date                                          headlines  \\\n",
       "0  2019-02-01  Inmate next to your hostel room could be a cri...   \n",
       "1  2019-02-01  Heavily water polluted area survey findings ro...   \n",
       "2  2019-02-01  H1N1: DMHOs to inspect wards, panel to manage ...   \n",
       "3  2019-02-01                             With Jind result story   \n",
       "4  2019-02-01             No 200 free power units for I-T payers   \n",
       "\n",
       "                                             article  \n",
       "0  LUCKNOW: Worried that their children could be ...  \n",
       "1  CHANDIGARH: The recent findings of a survey by...  \n",
       "2  Hyderabad: Anticipating further increase in th...  \n",
       "3  Mismatch of EVMs In the eighth round of counti...  \n",
       "4  CHANDIGARH: In the run-up to the Lok Sabha pol...  "
      ]
     },
     "execution_count": 79,
     "metadata": {},
     "output_type": "execute_result"
    }
   ],
   "source": [
    "pulwama_final = pulwama_clean.drop(['index'], axis=1)\n",
    "pulwama_final.head()"
   ]
  },
  {
   "cell_type": "code",
   "execution_count": 12,
   "metadata": {},
   "outputs": [
    {
     "data": {
      "text/html": [
       "<div>\n",
       "<style scoped>\n",
       "    .dataframe tbody tr th:only-of-type {\n",
       "        vertical-align: middle;\n",
       "    }\n",
       "\n",
       "    .dataframe tbody tr th {\n",
       "        vertical-align: top;\n",
       "    }\n",
       "\n",
       "    .dataframe thead th {\n",
       "        text-align: right;\n",
       "    }\n",
       "</style>\n",
       "<table border=\"1\" class=\"dataframe\">\n",
       "  <thead>\n",
       "    <tr style=\"text-align: right;\">\n",
       "      <th></th>\n",
       "      <th>date</th>\n",
       "      <th>headlines</th>\n",
       "      <th>article</th>\n",
       "    </tr>\n",
       "  </thead>\n",
       "  <tbody>\n",
       "    <tr>\n",
       "      <th>17572</th>\n",
       "      <td>2019-03-19</td>\n",
       "      <td>Last day to get flat 50% off on food &amp; drinks ...</td>\n",
       "      <td>The Great Indian Restaurant Festival is going ...</td>\n",
       "    </tr>\n",
       "    <tr>\n",
       "      <th>17573</th>\n",
       "      <td>2019-03-30</td>\n",
       "      <td>Best security cameras for homes and offices</td>\n",
       "      <td>It is always good to be cautious about your su...</td>\n",
       "    </tr>\n",
       "    <tr>\n",
       "      <th>17574</th>\n",
       "      <td>2019-03-31</td>\n",
       "      <td>Western railways rolls out tech to track phone...</td>\n",
       "      <td>MUMBAI: For the first time for Indian Railways...</td>\n",
       "    </tr>\n",
       "    <tr>\n",
       "      <th>17575</th>\n",
       "      <td>2019-04-04</td>\n",
       "      <td>Astitva to the fore at 2-day Times Litfest</td>\n",
       "      <td>BENGALURU: The fifth edition of the two-day Ti...</td>\n",
       "    </tr>\n",
       "    <tr>\n",
       "      <th>17576</th>\n",
       "      <td>2019-04-10</td>\n",
       "      <td>Will visit every farmer’s home, says BSP’s Sat...</td>\n",
       "      <td>NOIDA: Satveer Nagar promises to visit every f...</td>\n",
       "    </tr>\n",
       "  </tbody>\n",
       "</table>\n",
       "</div>"
      ],
      "text/plain": [
       "             date                                          headlines  \\\n",
       "17572  2019-03-19  Last day to get flat 50% off on food & drinks ...   \n",
       "17573  2019-03-30        Best security cameras for homes and offices   \n",
       "17574  2019-03-31  Western railways rolls out tech to track phone...   \n",
       "17575  2019-04-04         Astitva to the fore at 2-day Times Litfest   \n",
       "17576  2019-04-10  Will visit every farmer’s home, says BSP’s Sat...   \n",
       "\n",
       "                                                 article  \n",
       "17572  The Great Indian Restaurant Festival is going ...  \n",
       "17573  It is always good to be cautious about your su...  \n",
       "17574  MUMBAI: For the first time for Indian Railways...  \n",
       "17575  BENGALURU: The fifth edition of the two-day Ti...  \n",
       "17576  NOIDA: Satveer Nagar promises to visit every f...  "
      ]
     },
     "execution_count": 12,
     "metadata": {},
     "output_type": "execute_result"
    }
   ],
   "source": [
    "pulwama_final = pulwama_final.drop(pulwama_final.index[17577:17596])\n",
    "pulwama_final.tail()"
   ]
  },
  {
   "cell_type": "code",
   "execution_count": 13,
   "metadata": {},
   "outputs": [],
   "source": [
    "stemmer = PorterStemmer()\n",
    "def lemmatize_stemming(text):\n",
    "    return stemmer.stem(WordNetLemmatizer().lemmatize(text, pos='v'))\n",
    "def preprocess(text):\n",
    "    result = []\n",
    "    for token in gensim.utils.simple_preprocess(text):\n",
    "        if token not in gensim.parsing.preprocessing.STOPWORDS and len(token) > 3:\n",
    "            result.append(lemmatize_stemming(token))\n",
    "    return result"
   ]
  },
  {
   "cell_type": "code",
   "execution_count": 14,
   "metadata": {},
   "outputs": [],
   "source": [
    "headlines = pulwama_final['headlines'].astype(str).map(preprocess)\n",
    "articles = pulwama_final['article'].astype(str).map(preprocess)"
   ]
  },
  {
   "cell_type": "code",
   "execution_count": 15,
   "metadata": {},
   "outputs": [
    {
     "data": {
      "text/html": [
       "<div>\n",
       "<style scoped>\n",
       "    .dataframe tbody tr th:only-of-type {\n",
       "        vertical-align: middle;\n",
       "    }\n",
       "\n",
       "    .dataframe tbody tr th {\n",
       "        vertical-align: top;\n",
       "    }\n",
       "\n",
       "    .dataframe thead th {\n",
       "        text-align: right;\n",
       "    }\n",
       "</style>\n",
       "<table border=\"1\" class=\"dataframe\">\n",
       "  <thead>\n",
       "    <tr style=\"text-align: right;\">\n",
       "      <th></th>\n",
       "      <th>date</th>\n",
       "      <th>headlines</th>\n",
       "      <th>article</th>\n",
       "    </tr>\n",
       "  </thead>\n",
       "  <tbody>\n",
       "    <tr>\n",
       "      <th>0</th>\n",
       "      <td>2019-02-01</td>\n",
       "      <td>[inmat, hostel, room, crimin]</td>\n",
       "      <td>[lucknow, worri, children, stay, crimin, luckn...</td>\n",
       "    </tr>\n",
       "    <tr>\n",
       "      <th>1</th>\n",
       "      <td>2019-02-01</td>\n",
       "      <td>[heavili, water, pollut, area, survey, find, r...</td>\n",
       "      <td>[chandigarh, recent, find, survey, punjab, hea...</td>\n",
       "    </tr>\n",
       "    <tr>\n",
       "      <th>2</th>\n",
       "      <td>2019-02-01</td>\n",
       "      <td>[dmho, inspect, ward, panel, manag, case]</td>\n",
       "      <td>[hyderabad, anticip, increas, number, swine, c...</td>\n",
       "    </tr>\n",
       "    <tr>\n",
       "      <th>3</th>\n",
       "      <td>2019-02-01</td>\n",
       "      <td>[jind, result, stori]</td>\n",
       "      <td>[mismatch, evm, eighth, round, count, poll, ag...</td>\n",
       "    </tr>\n",
       "    <tr>\n",
       "      <th>4</th>\n",
       "      <td>2019-02-01</td>\n",
       "      <td>[free, power, unit, payer]</td>\n",
       "      <td>[chandigarh, sabha, poll, punjab, govern, thur...</td>\n",
       "    </tr>\n",
       "  </tbody>\n",
       "</table>\n",
       "</div>"
      ],
      "text/plain": [
       "         date                                          headlines  \\\n",
       "0  2019-02-01                      [inmat, hostel, room, crimin]   \n",
       "1  2019-02-01  [heavili, water, pollut, area, survey, find, r...   \n",
       "2  2019-02-01          [dmho, inspect, ward, panel, manag, case]   \n",
       "3  2019-02-01                              [jind, result, stori]   \n",
       "4  2019-02-01                         [free, power, unit, payer]   \n",
       "\n",
       "                                             article  \n",
       "0  [lucknow, worri, children, stay, crimin, luckn...  \n",
       "1  [chandigarh, recent, find, survey, punjab, hea...  \n",
       "2  [hyderabad, anticip, increas, number, swine, c...  \n",
       "3  [mismatch, evm, eighth, round, count, poll, ag...  \n",
       "4  [chandigarh, sabha, poll, punjab, govern, thur...  "
      ]
     },
     "execution_count": 15,
     "metadata": {},
     "output_type": "execute_result"
    }
   ],
   "source": [
    "pulwama_final['headlines'] = headlines\n",
    "pulwama_final['article'] = articles\n",
    "pulwama_final.head()"
   ]
  },
  {
   "cell_type": "code",
   "execution_count": 16,
   "metadata": {},
   "outputs": [],
   "source": [
    "l = []\n",
    "\n",
    "for word in pulwama_final['article']:\n",
    "    if 'pakistan' in word:\n",
    "        l.append('1')\n",
    "    else:\n",
    "        l.append('0')\n",
    "        \n",
    "pulwama_final['Pakistan'] = l\n"
   ]
  },
  {
   "cell_type": "code",
   "execution_count": 17,
   "metadata": {},
   "outputs": [],
   "source": [
    "l = []\n",
    "\n",
    "for word in pulwama_final['article']:\n",
    "    if 'kashmir' in word:\n",
    "        l.append('1')\n",
    "    else:\n",
    "        l.append('0')\n",
    "        \n",
    "pulwama_final['Kashmir'] = l"
   ]
  },
  {
   "cell_type": "code",
   "execution_count": 18,
   "metadata": {},
   "outputs": [],
   "source": [
    "l = []\n",
    "\n",
    "for word in pulwama_final['article']:\n",
    "    if 'attack' in word:\n",
    "        l.append('1')\n",
    "    else:\n",
    "        l.append('0')\n",
    "        \n",
    "pulwama_final['Attack'] = l"
   ]
  },
  {
   "cell_type": "code",
   "execution_count": 19,
   "metadata": {},
   "outputs": [],
   "source": [
    "l = []\n",
    "\n",
    "for word in pulwama_final['article']:\n",
    "    if 'terror' in word:\n",
    "        l.append('1')\n",
    "    else:\n",
    "        l.append('0')\n",
    "        \n",
    "pulwama_final['Terror'] = l"
   ]
  },
  {
   "cell_type": "code",
   "execution_count": 20,
   "metadata": {},
   "outputs": [
    {
     "data": {
      "text/plain": [
       "0    16837\n",
       "1      740\n",
       "Name: Pulwama, dtype: int64"
      ]
     },
     "execution_count": 20,
     "metadata": {},
     "output_type": "execute_result"
    }
   ],
   "source": [
    "l = []\n",
    "\n",
    "for word in pulwama_final['article']:\n",
    "    if 'pulwama' in word:\n",
    "        l.append('1')\n",
    "    else:\n",
    "        l.append('0')\n",
    "        \n",
    "pulwama_final['Pulwama'] = l\n",
    "pulwama_final['Pulwama'].value_counts()"
   ]
  },
  {
   "cell_type": "code",
   "execution_count": 21,
   "metadata": {},
   "outputs": [
    {
     "data": {
      "text/plain": [
       "0    16868\n",
       "1      709\n",
       "Name: Terror, dtype: int64"
      ]
     },
     "execution_count": 21,
     "metadata": {},
     "output_type": "execute_result"
    }
   ],
   "source": [
    "l = []\n",
    "\n",
    "for word in pulwama_final['article']:\n",
    "    if 'terror' in word:\n",
    "        l.append('1')\n",
    "    else:\n",
    "        l.append('0')\n",
    "        \n",
    "pulwama_final['Terror'] = l\n",
    "pulwama_final['Terror'].value_counts()"
   ]
  },
  {
   "cell_type": "code",
   "execution_count": 32,
   "metadata": {},
   "outputs": [],
   "source": [
    "l = []\n",
    "\n",
    "for i in pulwama_final['article']:\n",
    "    if('pakistan' in i or 'kashmir' in i or 'attack' in i or 'terror' in i or 'pulwama' in i or 'crpf' in i):\n",
    "        l.append('1')\n",
    "    else:\n",
    "        l.append('0')\n",
    "        \n",
    "pulwama_final['Relevant'] = l"
   ]
  },
  {
   "cell_type": "code",
   "execution_count": 33,
   "metadata": {},
   "outputs": [
    {
     "data": {
      "text/html": [
       "<div>\n",
       "<style scoped>\n",
       "    .dataframe tbody tr th:only-of-type {\n",
       "        vertical-align: middle;\n",
       "    }\n",
       "\n",
       "    .dataframe tbody tr th {\n",
       "        vertical-align: top;\n",
       "    }\n",
       "\n",
       "    .dataframe thead th {\n",
       "        text-align: right;\n",
       "    }\n",
       "</style>\n",
       "<table border=\"1\" class=\"dataframe\">\n",
       "  <thead>\n",
       "    <tr style=\"text-align: right;\">\n",
       "      <th></th>\n",
       "      <th>date</th>\n",
       "      <th>headlines</th>\n",
       "      <th>article</th>\n",
       "      <th>Pakistan</th>\n",
       "      <th>Kashmir</th>\n",
       "      <th>Attack</th>\n",
       "      <th>Terror</th>\n",
       "      <th>Pulwama</th>\n",
       "      <th>Relevant</th>\n",
       "      <th>CRPF</th>\n",
       "    </tr>\n",
       "  </thead>\n",
       "  <tbody>\n",
       "    <tr>\n",
       "      <th>0</th>\n",
       "      <td>2019-02-01</td>\n",
       "      <td>[inmat, hostel, room, crimin]</td>\n",
       "      <td>[lucknow, worri, children, stay, crimin, luckn...</td>\n",
       "      <td>0</td>\n",
       "      <td>0</td>\n",
       "      <td>0</td>\n",
       "      <td>0</td>\n",
       "      <td>0</td>\n",
       "      <td>0</td>\n",
       "      <td>0</td>\n",
       "    </tr>\n",
       "    <tr>\n",
       "      <th>1</th>\n",
       "      <td>2019-02-01</td>\n",
       "      <td>[heavili, water, pollut, area, survey, find, r...</td>\n",
       "      <td>[chandigarh, recent, find, survey, punjab, hea...</td>\n",
       "      <td>0</td>\n",
       "      <td>0</td>\n",
       "      <td>0</td>\n",
       "      <td>0</td>\n",
       "      <td>0</td>\n",
       "      <td>0</td>\n",
       "      <td>0</td>\n",
       "    </tr>\n",
       "    <tr>\n",
       "      <th>2</th>\n",
       "      <td>2019-02-01</td>\n",
       "      <td>[dmho, inspect, ward, panel, manag, case]</td>\n",
       "      <td>[hyderabad, anticip, increas, number, swine, c...</td>\n",
       "      <td>0</td>\n",
       "      <td>0</td>\n",
       "      <td>0</td>\n",
       "      <td>0</td>\n",
       "      <td>0</td>\n",
       "      <td>0</td>\n",
       "      <td>0</td>\n",
       "    </tr>\n",
       "    <tr>\n",
       "      <th>3</th>\n",
       "      <td>2019-02-01</td>\n",
       "      <td>[jind, result, stori]</td>\n",
       "      <td>[mismatch, evm, eighth, round, count, poll, ag...</td>\n",
       "      <td>0</td>\n",
       "      <td>0</td>\n",
       "      <td>0</td>\n",
       "      <td>0</td>\n",
       "      <td>0</td>\n",
       "      <td>0</td>\n",
       "      <td>0</td>\n",
       "    </tr>\n",
       "    <tr>\n",
       "      <th>4</th>\n",
       "      <td>2019-02-01</td>\n",
       "      <td>[free, power, unit, payer]</td>\n",
       "      <td>[chandigarh, sabha, poll, punjab, govern, thur...</td>\n",
       "      <td>0</td>\n",
       "      <td>0</td>\n",
       "      <td>0</td>\n",
       "      <td>0</td>\n",
       "      <td>0</td>\n",
       "      <td>0</td>\n",
       "      <td>0</td>\n",
       "    </tr>\n",
       "  </tbody>\n",
       "</table>\n",
       "</div>"
      ],
      "text/plain": [
       "         date                                          headlines  \\\n",
       "0  2019-02-01                      [inmat, hostel, room, crimin]   \n",
       "1  2019-02-01  [heavili, water, pollut, area, survey, find, r...   \n",
       "2  2019-02-01          [dmho, inspect, ward, panel, manag, case]   \n",
       "3  2019-02-01                              [jind, result, stori]   \n",
       "4  2019-02-01                         [free, power, unit, payer]   \n",
       "\n",
       "                                             article Pakistan Kashmir Attack  \\\n",
       "0  [lucknow, worri, children, stay, crimin, luckn...        0       0      0   \n",
       "1  [chandigarh, recent, find, survey, punjab, hea...        0       0      0   \n",
       "2  [hyderabad, anticip, increas, number, swine, c...        0       0      0   \n",
       "3  [mismatch, evm, eighth, round, count, poll, ag...        0       0      0   \n",
       "4  [chandigarh, sabha, poll, punjab, govern, thur...        0       0      0   \n",
       "\n",
       "  Terror Pulwama Relevant CRPF  \n",
       "0      0       0        0    0  \n",
       "1      0       0        0    0  \n",
       "2      0       0        0    0  \n",
       "3      0       0        0    0  \n",
       "4      0       0        0    0  "
      ]
     },
     "execution_count": 33,
     "metadata": {},
     "output_type": "execute_result"
    }
   ],
   "source": [
    "pulwama_final.head()"
   ]
  },
  {
   "cell_type": "code",
   "execution_count": 34,
   "metadata": {},
   "outputs": [
    {
     "data": {
      "text/plain": [
       "0    17084\n",
       "1      493\n",
       "Name: CRPF, dtype: int64"
      ]
     },
     "execution_count": 34,
     "metadata": {},
     "output_type": "execute_result"
    }
   ],
   "source": [
    "l = []\n",
    "\n",
    "for word in pulwama_final['article']:\n",
    "    if 'crpf' in word:\n",
    "        l.append('1')\n",
    "    else:\n",
    "        l.append('0')\n",
    "        \n",
    "pulwama_final['CRPF'] = l\n",
    "pulwama_final['CRPF'].value_counts()"
   ]
  },
  {
   "cell_type": "code",
   "execution_count": 35,
   "metadata": {},
   "outputs": [
    {
     "data": {
      "text/html": [
       "<div>\n",
       "<style scoped>\n",
       "    .dataframe tbody tr th:only-of-type {\n",
       "        vertical-align: middle;\n",
       "    }\n",
       "\n",
       "    .dataframe tbody tr th {\n",
       "        vertical-align: top;\n",
       "    }\n",
       "\n",
       "    .dataframe thead th {\n",
       "        text-align: right;\n",
       "    }\n",
       "</style>\n",
       "<table border=\"1\" class=\"dataframe\">\n",
       "  <thead>\n",
       "    <tr style=\"text-align: right;\">\n",
       "      <th></th>\n",
       "      <th>date</th>\n",
       "      <th>headlines</th>\n",
       "      <th>article</th>\n",
       "      <th>Pakistan</th>\n",
       "      <th>Kashmir</th>\n",
       "      <th>Attack</th>\n",
       "      <th>Terror</th>\n",
       "      <th>Pulwama</th>\n",
       "      <th>Relevant</th>\n",
       "      <th>CRPF</th>\n",
       "    </tr>\n",
       "  </thead>\n",
       "  <tbody>\n",
       "    <tr>\n",
       "      <th>0</th>\n",
       "      <td>2019-02-01</td>\n",
       "      <td>[inmat, hostel, room, crimin]</td>\n",
       "      <td>[lucknow, worri, children, stay, crimin, luckn...</td>\n",
       "      <td>0</td>\n",
       "      <td>0</td>\n",
       "      <td>0</td>\n",
       "      <td>0</td>\n",
       "      <td>0</td>\n",
       "      <td>0</td>\n",
       "      <td>0</td>\n",
       "    </tr>\n",
       "    <tr>\n",
       "      <th>1</th>\n",
       "      <td>2019-02-01</td>\n",
       "      <td>[heavili, water, pollut, area, survey, find, r...</td>\n",
       "      <td>[chandigarh, recent, find, survey, punjab, hea...</td>\n",
       "      <td>0</td>\n",
       "      <td>0</td>\n",
       "      <td>0</td>\n",
       "      <td>0</td>\n",
       "      <td>0</td>\n",
       "      <td>0</td>\n",
       "      <td>0</td>\n",
       "    </tr>\n",
       "    <tr>\n",
       "      <th>2</th>\n",
       "      <td>2019-02-01</td>\n",
       "      <td>[dmho, inspect, ward, panel, manag, case]</td>\n",
       "      <td>[hyderabad, anticip, increas, number, swine, c...</td>\n",
       "      <td>0</td>\n",
       "      <td>0</td>\n",
       "      <td>0</td>\n",
       "      <td>0</td>\n",
       "      <td>0</td>\n",
       "      <td>0</td>\n",
       "      <td>0</td>\n",
       "    </tr>\n",
       "    <tr>\n",
       "      <th>3</th>\n",
       "      <td>2019-02-01</td>\n",
       "      <td>[jind, result, stori]</td>\n",
       "      <td>[mismatch, evm, eighth, round, count, poll, ag...</td>\n",
       "      <td>0</td>\n",
       "      <td>0</td>\n",
       "      <td>0</td>\n",
       "      <td>0</td>\n",
       "      <td>0</td>\n",
       "      <td>0</td>\n",
       "      <td>0</td>\n",
       "    </tr>\n",
       "    <tr>\n",
       "      <th>4</th>\n",
       "      <td>2019-02-01</td>\n",
       "      <td>[free, power, unit, payer]</td>\n",
       "      <td>[chandigarh, sabha, poll, punjab, govern, thur...</td>\n",
       "      <td>0</td>\n",
       "      <td>0</td>\n",
       "      <td>0</td>\n",
       "      <td>0</td>\n",
       "      <td>0</td>\n",
       "      <td>0</td>\n",
       "      <td>0</td>\n",
       "    </tr>\n",
       "  </tbody>\n",
       "</table>\n",
       "</div>"
      ],
      "text/plain": [
       "         date                                          headlines  \\\n",
       "0  2019-02-01                      [inmat, hostel, room, crimin]   \n",
       "1  2019-02-01  [heavili, water, pollut, area, survey, find, r...   \n",
       "2  2019-02-01          [dmho, inspect, ward, panel, manag, case]   \n",
       "3  2019-02-01                              [jind, result, stori]   \n",
       "4  2019-02-01                         [free, power, unit, payer]   \n",
       "\n",
       "                                             article Pakistan Kashmir Attack  \\\n",
       "0  [lucknow, worri, children, stay, crimin, luckn...        0       0      0   \n",
       "1  [chandigarh, recent, find, survey, punjab, hea...        0       0      0   \n",
       "2  [hyderabad, anticip, increas, number, swine, c...        0       0      0   \n",
       "3  [mismatch, evm, eighth, round, count, poll, ag...        0       0      0   \n",
       "4  [chandigarh, sabha, poll, punjab, govern, thur...        0       0      0   \n",
       "\n",
       "  Terror Pulwama Relevant CRPF  \n",
       "0      0       0        0    0  \n",
       "1      0       0        0    0  \n",
       "2      0       0        0    0  \n",
       "3      0       0        0    0  \n",
       "4      0       0        0    0  "
      ]
     },
     "execution_count": 35,
     "metadata": {},
     "output_type": "execute_result"
    }
   ],
   "source": [
    "pulwama_final.head()"
   ]
  },
  {
   "cell_type": "code",
   "execution_count": 36,
   "metadata": {},
   "outputs": [
    {
     "data": {
      "text/plain": [
       "0    16837\n",
       "1      740\n",
       "Name: Pulwama, dtype: int64"
      ]
     },
     "execution_count": 36,
     "metadata": {},
     "output_type": "execute_result"
    }
   ],
   "source": [
    "pulwama_final['Pulwama'].value_counts()"
   ]
  },
  {
   "cell_type": "code",
   "execution_count": 37,
   "metadata": {},
   "outputs": [
    {
     "data": {
      "text/html": [
       "<div>\n",
       "<style scoped>\n",
       "    .dataframe tbody tr th:only-of-type {\n",
       "        vertical-align: middle;\n",
       "    }\n",
       "\n",
       "    .dataframe tbody tr th {\n",
       "        vertical-align: top;\n",
       "    }\n",
       "\n",
       "    .dataframe thead th {\n",
       "        text-align: right;\n",
       "    }\n",
       "</style>\n",
       "<table border=\"1\" class=\"dataframe\">\n",
       "  <thead>\n",
       "    <tr style=\"text-align: right;\">\n",
       "      <th></th>\n",
       "      <th>date</th>\n",
       "      <th>headlines</th>\n",
       "      <th>article</th>\n",
       "      <th>Pakistan</th>\n",
       "      <th>Kashmir</th>\n",
       "      <th>Attack</th>\n",
       "      <th>Terror</th>\n",
       "      <th>Pulwama</th>\n",
       "      <th>Relevant</th>\n",
       "      <th>CRPF</th>\n",
       "    </tr>\n",
       "  </thead>\n",
       "  <tbody>\n",
       "    <tr>\n",
       "      <th>0</th>\n",
       "      <td>2019-02-01</td>\n",
       "      <td>[inmat, hostel, room, crimin]</td>\n",
       "      <td>[lucknow, worri, children, stay, crimin, luckn...</td>\n",
       "      <td>0</td>\n",
       "      <td>0</td>\n",
       "      <td>0</td>\n",
       "      <td>0</td>\n",
       "      <td>0</td>\n",
       "      <td>0</td>\n",
       "      <td>0</td>\n",
       "    </tr>\n",
       "    <tr>\n",
       "      <th>1</th>\n",
       "      <td>2019-02-01</td>\n",
       "      <td>[heavili, water, pollut, area, survey, find, r...</td>\n",
       "      <td>[chandigarh, recent, find, survey, punjab, hea...</td>\n",
       "      <td>0</td>\n",
       "      <td>0</td>\n",
       "      <td>0</td>\n",
       "      <td>0</td>\n",
       "      <td>0</td>\n",
       "      <td>0</td>\n",
       "      <td>0</td>\n",
       "    </tr>\n",
       "    <tr>\n",
       "      <th>2</th>\n",
       "      <td>2019-02-01</td>\n",
       "      <td>[dmho, inspect, ward, panel, manag, case]</td>\n",
       "      <td>[hyderabad, anticip, increas, number, swine, c...</td>\n",
       "      <td>0</td>\n",
       "      <td>0</td>\n",
       "      <td>0</td>\n",
       "      <td>0</td>\n",
       "      <td>0</td>\n",
       "      <td>0</td>\n",
       "      <td>0</td>\n",
       "    </tr>\n",
       "    <tr>\n",
       "      <th>3</th>\n",
       "      <td>2019-02-01</td>\n",
       "      <td>[jind, result, stori]</td>\n",
       "      <td>[mismatch, evm, eighth, round, count, poll, ag...</td>\n",
       "      <td>0</td>\n",
       "      <td>0</td>\n",
       "      <td>0</td>\n",
       "      <td>0</td>\n",
       "      <td>0</td>\n",
       "      <td>0</td>\n",
       "      <td>0</td>\n",
       "    </tr>\n",
       "    <tr>\n",
       "      <th>4</th>\n",
       "      <td>2019-02-01</td>\n",
       "      <td>[free, power, unit, payer]</td>\n",
       "      <td>[chandigarh, sabha, poll, punjab, govern, thur...</td>\n",
       "      <td>0</td>\n",
       "      <td>0</td>\n",
       "      <td>0</td>\n",
       "      <td>0</td>\n",
       "      <td>0</td>\n",
       "      <td>0</td>\n",
       "      <td>0</td>\n",
       "    </tr>\n",
       "  </tbody>\n",
       "</table>\n",
       "</div>"
      ],
      "text/plain": [
       "         date                                          headlines  \\\n",
       "0  2019-02-01                      [inmat, hostel, room, crimin]   \n",
       "1  2019-02-01  [heavili, water, pollut, area, survey, find, r...   \n",
       "2  2019-02-01          [dmho, inspect, ward, panel, manag, case]   \n",
       "3  2019-02-01                              [jind, result, stori]   \n",
       "4  2019-02-01                         [free, power, unit, payer]   \n",
       "\n",
       "                                             article Pakistan Kashmir Attack  \\\n",
       "0  [lucknow, worri, children, stay, crimin, luckn...        0       0      0   \n",
       "1  [chandigarh, recent, find, survey, punjab, hea...        0       0      0   \n",
       "2  [hyderabad, anticip, increas, number, swine, c...        0       0      0   \n",
       "3  [mismatch, evm, eighth, round, count, poll, ag...        0       0      0   \n",
       "4  [chandigarh, sabha, poll, punjab, govern, thur...        0       0      0   \n",
       "\n",
       "  Terror Pulwama Relevant CRPF  \n",
       "0      0       0        0    0  \n",
       "1      0       0        0    0  \n",
       "2      0       0        0    0  \n",
       "3      0       0        0    0  \n",
       "4      0       0        0    0  "
      ]
     },
     "execution_count": 37,
     "metadata": {},
     "output_type": "execute_result"
    }
   ],
   "source": [
    "pulwama_old = pulwama_final[:7585]\n",
    "pulwama_old.head()"
   ]
  },
  {
   "cell_type": "code",
   "execution_count": 38,
   "metadata": {},
   "outputs": [
    {
     "data": {
      "image/png": "[encoded data removed]",
      "text/plain": [
       "<Figure size 432x288 with 1 Axes>"
      ]
     },
     "metadata": {
      "needs_background": "light"
     },
     "output_type": "display_data"
    }
   ],
   "source": [
    "sns.countplot(x=\"Relevant\", data=pulwama_old, palette='hls')\n",
    "plt.show()"
   ]
  },
  {
   "cell_type": "code",
   "execution_count": 39,
   "metadata": {},
   "outputs": [
    {
     "data": {
      "text/html": [
       "<div>\n",
       "<style scoped>\n",
       "    .dataframe tbody tr th:only-of-type {\n",
       "        vertical-align: middle;\n",
       "    }\n",
       "\n",
       "    .dataframe tbody tr th {\n",
       "        vertical-align: top;\n",
       "    }\n",
       "\n",
       "    .dataframe thead th {\n",
       "        text-align: right;\n",
       "    }\n",
       "</style>\n",
       "<table border=\"1\" class=\"dataframe\">\n",
       "  <thead>\n",
       "    <tr style=\"text-align: right;\">\n",
       "      <th></th>\n",
       "      <th>date</th>\n",
       "      <th>headlines</th>\n",
       "      <th>article</th>\n",
       "      <th>Pakistan</th>\n",
       "      <th>Kashmir</th>\n",
       "      <th>Attack</th>\n",
       "      <th>Terror</th>\n",
       "      <th>Pulwama</th>\n",
       "      <th>Relevant</th>\n",
       "      <th>CRPF</th>\n",
       "    </tr>\n",
       "  </thead>\n",
       "  <tbody>\n",
       "    <tr>\n",
       "      <th>7585</th>\n",
       "      <td>2019-02-14</td>\n",
       "      <td>[woman, arrest, rap, minor]</td>\n",
       "      <td>[malappuram, tenhipalam, polic, arrest, year, ...</td>\n",
       "      <td>0</td>\n",
       "      <td>0</td>\n",
       "      <td>0</td>\n",
       "      <td>0</td>\n",
       "      <td>0</td>\n",
       "      <td>0</td>\n",
       "      <td>0</td>\n",
       "    </tr>\n",
       "    <tr>\n",
       "      <th>7586</th>\n",
       "      <td>2019-02-14</td>\n",
       "      <td>[oper, lotu, fail, bloom, dissid, karnataka, m...</td>\n",
       "      <td>[bengaluru, hassan, day, chief, minist, kumara...</td>\n",
       "      <td>0</td>\n",
       "      <td>0</td>\n",
       "      <td>1</td>\n",
       "      <td>0</td>\n",
       "      <td>0</td>\n",
       "      <td>1</td>\n",
       "      <td>0</td>\n",
       "    </tr>\n",
       "    <tr>\n",
       "      <th>7587</th>\n",
       "      <td>2019-02-14</td>\n",
       "      <td>[oper, lotu, fail, bloom, dissid, karnataka, m...</td>\n",
       "      <td>[bengaluru, hassan, day, chief, minist, kumara...</td>\n",
       "      <td>0</td>\n",
       "      <td>0</td>\n",
       "      <td>1</td>\n",
       "      <td>0</td>\n",
       "      <td>0</td>\n",
       "      <td>1</td>\n",
       "      <td>0</td>\n",
       "    </tr>\n",
       "    <tr>\n",
       "      <th>7588</th>\n",
       "      <td>2019-02-14</td>\n",
       "      <td>[encroach, free, rein, munnar]</td>\n",
       "      <td>[idukki, illeg, construct, encroach, munnar, g...</td>\n",
       "      <td>0</td>\n",
       "      <td>0</td>\n",
       "      <td>0</td>\n",
       "      <td>0</td>\n",
       "      <td>0</td>\n",
       "      <td>0</td>\n",
       "      <td>0</td>\n",
       "    </tr>\n",
       "    <tr>\n",
       "      <th>7589</th>\n",
       "      <td>2019-02-14</td>\n",
       "      <td>[rafal, maker, train, student, tamil, nadu]</td>\n",
       "      <td>[chennai, creat, skill, workforc, aviat, secto...</td>\n",
       "      <td>0</td>\n",
       "      <td>0</td>\n",
       "      <td>0</td>\n",
       "      <td>0</td>\n",
       "      <td>0</td>\n",
       "      <td>0</td>\n",
       "      <td>0</td>\n",
       "    </tr>\n",
       "  </tbody>\n",
       "</table>\n",
       "</div>"
      ],
      "text/plain": [
       "            date                                          headlines  \\\n",
       "7585  2019-02-14                        [woman, arrest, rap, minor]   \n",
       "7586  2019-02-14  [oper, lotu, fail, bloom, dissid, karnataka, m...   \n",
       "7587  2019-02-14  [oper, lotu, fail, bloom, dissid, karnataka, m...   \n",
       "7588  2019-02-14                     [encroach, free, rein, munnar]   \n",
       "7589  2019-02-14        [rafal, maker, train, student, tamil, nadu]   \n",
       "\n",
       "                                                article Pakistan Kashmir  \\\n",
       "7585  [malappuram, tenhipalam, polic, arrest, year, ...        0       0   \n",
       "7586  [bengaluru, hassan, day, chief, minist, kumara...        0       0   \n",
       "7587  [bengaluru, hassan, day, chief, minist, kumara...        0       0   \n",
       "7588  [idukki, illeg, construct, encroach, munnar, g...        0       0   \n",
       "7589  [chennai, creat, skill, workforc, aviat, secto...        0       0   \n",
       "\n",
       "     Attack Terror Pulwama Relevant CRPF  \n",
       "7585      0      0       0        0    0  \n",
       "7586      1      0       0        1    0  \n",
       "7587      1      0       0        1    0  \n",
       "7588      0      0       0        0    0  \n",
       "7589      0      0       0        0    0  "
      ]
     },
     "execution_count": 39,
     "metadata": {},
     "output_type": "execute_result"
    }
   ],
   "source": [
    "pulwama_new = pulwama_final[7585:]\n",
    "pulwama_new.head()"
   ]
  },
  {
   "cell_type": "code",
   "execution_count": 40,
   "metadata": {},
   "outputs": [
    {
     "data": {
      "image/png": "[encoded data removed]",
      "text/plain": [
       "<Figure size 432x288 with 1 Axes>"
      ]
     },
     "metadata": {
      "needs_background": "light"
     },
     "output_type": "display_data"
    }
   ],
   "source": [
    "sns.countplot(x=\"Relevant\", data=pulwama_new, palette='hls')\n",
    "plt.show()\n"
   ]
  },
  {
   "cell_type": "code",
   "execution_count": 65,
   "metadata": {
    "scrolled": true
   },
   "outputs": [
    {
     "data": {
      "text/html": [
       "<div>\n",
       "<style scoped>\n",
       "    .dataframe tbody tr th:only-of-type {\n",
       "        vertical-align: middle;\n",
       "    }\n",
       "\n",
       "    .dataframe tbody tr th {\n",
       "        vertical-align: top;\n",
       "    }\n",
       "\n",
       "    .dataframe thead th {\n",
       "        text-align: right;\n",
       "    }\n",
       "</style>\n",
       "<table border=\"1\" class=\"dataframe\">\n",
       "  <thead>\n",
       "    <tr style=\"text-align: right;\">\n",
       "      <th></th>\n",
       "      <th>Keywords</th>\n",
       "      <th>Total_no</th>\n",
       "      <th>Percentage</th>\n",
       "    </tr>\n",
       "  </thead>\n",
       "  <tbody>\n",
       "    <tr>\n",
       "      <th>0</th>\n",
       "      <td>Pakistan</td>\n",
       "      <td>75</td>\n",
       "      <td>0.988794</td>\n",
       "    </tr>\n",
       "    <tr>\n",
       "      <th>1</th>\n",
       "      <td>Kashmir</td>\n",
       "      <td>65</td>\n",
       "      <td>0.856955</td>\n",
       "    </tr>\n",
       "    <tr>\n",
       "      <th>2</th>\n",
       "      <td>Terror</td>\n",
       "      <td>46</td>\n",
       "      <td>0.606460</td>\n",
       "    </tr>\n",
       "    <tr>\n",
       "      <th>3</th>\n",
       "      <td>Attack</td>\n",
       "      <td>431</td>\n",
       "      <td>5.682268</td>\n",
       "    </tr>\n",
       "    <tr>\n",
       "      <th>4</th>\n",
       "      <td>Pulwama</td>\n",
       "      <td>4</td>\n",
       "      <td>0.052736</td>\n",
       "    </tr>\n",
       "    <tr>\n",
       "      <th>5</th>\n",
       "      <td>CRPF</td>\n",
       "      <td>30</td>\n",
       "      <td>0.395517</td>\n",
       "    </tr>\n",
       "  </tbody>\n",
       "</table>\n",
       "</div>"
      ],
      "text/plain": [
       "   Keywords  Total_no  Percentage\n",
       "0  Pakistan        75    0.988794\n",
       "1   Kashmir        65    0.856955\n",
       "2    Terror        46    0.606460\n",
       "3    Attack       431    5.682268\n",
       "4   Pulwama         4    0.052736\n",
       "5      CRPF        30    0.395517"
      ]
     },
     "execution_count": 65,
     "metadata": {},
     "output_type": "execute_result"
    }
   ],
   "source": [
    "pulwama_old_data = pulwama_old[['Pakistan', 'Kashmir','Terror','Attack', 'Pulwama', 'CRPF']]\n",
    "\n",
    "\n",
    "l = []\n",
    "\n",
    "for word in pulwama_old_data:\n",
    "        l.append(pulwama_old_data[word].value_counts()[1])\n",
    "        \n",
    "Total_no= l\n",
    "\n",
    "list1 = []\n",
    "\n",
    "for word in pulwama_old_data:\n",
    "        list1.append(pulwama_old_data[word].value_counts()[1]*100/(pulwama_old_data[word].value_counts()[1] + pulwama_old_data[word].value_counts()[0]))\n",
    "\n",
    "Percentage = list1\n",
    "\n",
    "keywords = ['Pakistan', 'Kashmir','Terror','Attack','Pulwama', 'CRPF']\n",
    "b = {'Keywords':keywords,'Total_no':Total_no,'Percentage':Percentage}\n",
    "data_old = pd.DataFrame(b)\n",
    "data_old"
   ]
  },
  {
   "cell_type": "code",
   "execution_count": 66,
   "metadata": {},
   "outputs": [
    {
     "data": {
      "image/png": "[encoded data removed]",
      "text/plain": [
       "<Figure size 432x288 with 1 Axes>"
      ]
     },
     "metadata": {
      "needs_background": "light"
     },
     "output_type": "display_data"
    }
   ],
   "source": [
    "ax = data_old.plot(x='Keywords', y='Percentage', kind='bar', title='Before Pulwama,occurance of Keywords')\n",
    "\n",
    "\n",
    "    \n",
    "plt.show()"
   ]
  },
  {
   "cell_type": "code",
   "execution_count": 69,
   "metadata": {},
   "outputs": [
    {
     "data": {
      "text/html": [
       "<div>\n",
       "<style scoped>\n",
       "    .dataframe tbody tr th:only-of-type {\n",
       "        vertical-align: middle;\n",
       "    }\n",
       "\n",
       "    .dataframe tbody tr th {\n",
       "        vertical-align: top;\n",
       "    }\n",
       "\n",
       "    .dataframe thead th {\n",
       "        text-align: right;\n",
       "    }\n",
       "</style>\n",
       "<table border=\"1\" class=\"dataframe\">\n",
       "  <thead>\n",
       "    <tr style=\"text-align: right;\">\n",
       "      <th></th>\n",
       "      <th>Keywords</th>\n",
       "      <th>Total_no</th>\n",
       "      <th>Percentage</th>\n",
       "    </tr>\n",
       "  </thead>\n",
       "  <tbody>\n",
       "    <tr>\n",
       "      <th>0</th>\n",
       "      <td>Pakistan</td>\n",
       "      <td>650</td>\n",
       "      <td>6.505204</td>\n",
       "    </tr>\n",
       "    <tr>\n",
       "      <th>1</th>\n",
       "      <td>Kashmir</td>\n",
       "      <td>477</td>\n",
       "      <td>4.773819</td>\n",
       "    </tr>\n",
       "    <tr>\n",
       "      <th>2</th>\n",
       "      <td>Terror</td>\n",
       "      <td>663</td>\n",
       "      <td>6.635308</td>\n",
       "    </tr>\n",
       "    <tr>\n",
       "      <th>3</th>\n",
       "      <td>Attack</td>\n",
       "      <td>1129</td>\n",
       "      <td>11.299039</td>\n",
       "    </tr>\n",
       "    <tr>\n",
       "      <th>4</th>\n",
       "      <td>Pulwama</td>\n",
       "      <td>736</td>\n",
       "      <td>7.365893</td>\n",
       "    </tr>\n",
       "    <tr>\n",
       "      <th>5</th>\n",
       "      <td>CRPF</td>\n",
       "      <td>463</td>\n",
       "      <td>4.633707</td>\n",
       "    </tr>\n",
       "  </tbody>\n",
       "</table>\n",
       "</div>"
      ],
      "text/plain": [
       "   Keywords  Total_no  Percentage\n",
       "0  Pakistan       650    6.505204\n",
       "1   Kashmir       477    4.773819\n",
       "2    Terror       663    6.635308\n",
       "3    Attack      1129   11.299039\n",
       "4   Pulwama       736    7.365893\n",
       "5      CRPF       463    4.633707"
      ]
     },
     "execution_count": 69,
     "metadata": {},
     "output_type": "execute_result"
    }
   ],
   "source": [
    "pulwama_new_data = pulwama_new[['Pakistan', 'Kashmir','Terror','Attack','Pulwama', 'CRPF']]\n",
    "\n",
    "l = []\n",
    "\n",
    "for word in pulwama_new_data:\n",
    "        l.append(pulwama_new_data[word].value_counts()[1])\n",
    "        \n",
    "Total_no= l \n",
    "\n",
    "list2 = []\n",
    "\n",
    "for word in pulwama_new_data:\n",
    "        list2.append(pulwama_new_data[word].value_counts()[1]*100/(pulwama_new_data[word].value_counts()[1] + pulwama_new_data[word].value_counts()[0]))\n",
    "\n",
    "Percentage = list2\n",
    "\n",
    "keywords = ['Pakistan', 'Kashmir','Terror','Attack','Pulwama', 'CRPF']\n",
    "d = {'Keywords':keywords,'Total_no':Total_no,'Percentage':Percentage}\n",
    "data_new = pd.DataFrame(d)\n",
    "data_new"
   ]
  },
  {
   "cell_type": "code",
   "execution_count": 70,
   "metadata": {},
   "outputs": [
    {
     "data": {
      "image/png": "[encoded data removed]",
      "text/plain": [
       "<Figure size 432x288 with 1 Axes>"
      ]
     },
     "metadata": {
      "needs_background": "light"
     },
     "output_type": "display_data"
    }
   ],
   "source": [
    "data_new.plot(x='Keywords', y='Percentage', kind='bar', title= 'After Pulwama,occurance of Keywords')\n",
    "plt.show()\n"
   ]
  },
  {
   "cell_type": "code",
   "execution_count": 72,
   "metadata": {},
   "outputs": [],
   "source": [
    "l = []\n",
    "\n",
    "for words in pulwama_clean['article'][8212:8214]:\n",
    "    l.append(words)\n",
    "    \n",
    "wordes = words"
   ]
  },
  {
   "cell_type": "code",
   "execution_count": 78,
   "metadata": {},
   "outputs": [
    {
     "data": {
      "image/png": "[encoded data removed]",
      "text/plain": [
       "<Figure size 360x360 with 1 Axes>"
      ]
     },
     "metadata": {},
     "output_type": "display_data"
    }
   ],
   "source": [
    "\n",
    "from wordcloud import WordCloud, STOPWORDS\n",
    "import image\n",
    "import urllib\n",
    "import requests\n",
    "import numpy as np\n",
    "import matplotlib.pyplot as plt\n",
    "  \n",
    "#words = 'The deadly terror strike on a CRPF convoy in Pulwama is reminiscent of the Badami Bagh attack of 2000 when a young suicide bomber, all of 17, had rammed a Maruti 800 into the Army cantonment. A year later, terrorists blew up a car outside the J&K legislative assembly complex, killing 38 persons. Yet, the Pulwama attack is unprecedented in terms of sheer number of fatalities suffered by security personnel in J&K in a single strike, and also brings back focus on home-grown terrorism that is now making local Kashmiris take to suicide attacks, until now a domain of hardened foreign fighters. Home minister Rajnath Singh and home secretary Rajiv Gauba, who were out of Delhi at the time of the attack, rushed back on Thursday evening and went into a huddle with the security brass to review the situation in J&K. Singh will visit the state on Saturday and hold review meetings with security forces and J&K police. Intelligence officials told TOI that Thursday’s attack was not the first incident of a vehicle laden with explosives — sources put the quantity used at 200-300 kg — being driven to inflict immediate casualties on security personnel in J&K. Adviser to J&K governor K Vijay Kumar told TOI that the same modus operandi was adopted in Badami Bagh attack of 2000, and repeated in a couple of attacks in 2005. Ramming vehicles into targets is now associated mostly with Islamic State-influenced, home-grown terrorists in Europe, though one of the most striking attacks using explosives-laden vehicle was the Glasgow attack of 2000 when suspected terrorists rammed a vehicle loaded with propane canisters into the glass doors of the airport building. The Pulwama attack ends a lull in big terror strikes in the Valley, with the past two years having seen 470 terrorists killed in sustained encounters with security forces. Thursday’s casualties are half the total number of forces martyred in 2018. The 2019 force fatalities figure therefore is set to end well beyond those in 2018 (86 till December 2 ), 2017 (80) and 2016 (82). Asked if such high casualties could have been avoided had CRPF restricted the size of the convoy, a J&K government functionary said it was not unusual for forces to move in large convoys, especially after bad weather. Sources said the attack may trigger a fresh review of standard operating procedures for movement of convoys. “While there are alternative transport methods such as airlifting the troops, it may not always be possible due to unpredictable weather. Besides, only a limited number of troops can be airlifted at a time,” the officer added'\n",
    "    \n",
    "# This function takes in your text and your mask and generates a wordcloud. \n",
    "def generate_wordcloud(wordes):\n",
    "    word_cloud = WordCloud(width = 512, height = 512, background_color='white', stopwords=STOPWORDS).generate(wordes)\n",
    "    plt.figure(figsize=(5,5),facecolor = 'white', edgecolor='blue')\n",
    "    plt.imshow(word_cloud)\n",
    "    plt.axis('off')\n",
    "    plt.tight_layout(pad=0)\n",
    "    plt.show()\n",
    "    \n",
    "#Run the following to generate your wordcloud\n",
    "generate_wordcloud(wordes)"
   ]
  },
  {
   "cell_type": "code",
   "execution_count": null,
   "metadata": {},
   "outputs": [],
   "source": []
  },
  {
   "cell_type": "code",
   "execution_count": null,
   "metadata": {},
   "outputs": [],
   "source": []
  },
  {
   "cell_type": "code",
   "execution_count": null,
   "metadata": {},
   "outputs": [],
   "source": []
  },
  {
   "cell_type": "code",
   "execution_count": null,
   "metadata": {},
   "outputs": [],
   "source": []
  },
  {
   "cell_type": "code",
   "execution_count": null,
   "metadata": {},
   "outputs": [],
   "source": []
  },
  {
   "cell_type": "code",
   "execution_count": null,
   "metadata": {},
   "outputs": [],
   "source": []
  },
  {
   "cell_type": "code",
   "execution_count": null,
   "metadata": {},
   "outputs": [],
   "source": []
  },
  {
   "cell_type": "code",
   "execution_count": null,
   "metadata": {},
   "outputs": [],
   "source": []
  },
  {
   "cell_type": "code",
   "execution_count": null,
   "metadata": {},
   "outputs": [],
   "source": []
  }
 ],
 "metadata": {
  "kernelspec": {
   "display_name": "Python 3",
   "language": "python",
   "name": "python3"
  },
  "language_info": {
   "codemirror_mode": {
    "name": "ipython",
    "version": 3
   },
   "file_extension": ".py",
   "mimetype": "text/x-python",
   "name": "python",
   "nbconvert_exporter": "python",
   "pygments_lexer": "ipython3",
   "version": "3.7.0"
  }
 },
 "nbformat": 4,
 "nbformat_minor": 2
}
